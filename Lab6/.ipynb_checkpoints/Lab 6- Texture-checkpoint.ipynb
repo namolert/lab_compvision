{
 "cells": [
  {
   "cell_type": "markdown",
   "id": "activated-rental",
   "metadata": {},
   "source": [
    "# 2110443 - Computer Vision (2021/2)\n",
    "## Lab 6 - Texture\n",
    "In this lab, we will learn to use texture to segment 'things' from images. This notebook includes both coding and written questions. Please hand in this notebook file with all outputs and your answer. <br>\n",
    "<b>Please note that collaboration is encouraged in this course.</b> You must turn in <b>your own write ups</b> of all problems. If you collaborate with others, you must put the names and ids of the students you worked with in below block."
   ]
  },
  {
   "cell_type": "markdown",
   "id": "2c372532-eaf2-49e7-a66a-98216975334e",
   "metadata": {},
   "source": [
    "<b>Remark : You need to install addition package name 'scikit-image' by using the following command line</b>"
   ]
  },
  {
   "cell_type": "markdown",
   "id": "84ab55fd-b0a0-438e-934a-8d8ccf78f377",
   "metadata": {},
   "source": [
    "Collaboration List:\n",
    "- ...\n",
    "- ..."
   ]
  },
  {
   "cell_type": "code",
   "execution_count": 2,
   "id": "6599d1a7-5d3c-4b6e-9fe2-98009b2d45ea",
   "metadata": {},
   "outputs": [
    {
     "name": "stdout",
     "output_type": "stream",
     "text": [
      "Collecting package metadata (current_repodata.json): ...working... done\n",
      "Solving environment: ...working... done\n",
      "\n",
      "## Package Plan ##\n",
      "\n",
      "  environment location: C:\\Users\\Acer\\miniconda3\n",
      "\n",
      "  added / updated specs:\n",
      "    - scikit-image\n",
      "\n",
      "\n",
      "The following NEW packages will be INSTALLED:\n",
      "\n",
      "  python_abi         conda-forge/win-64::python_abi-3.10-2_cp310 \n",
      "\n",
      "The following packages will be SUPERSEDED by a higher-priority channel:\n",
      "\n",
      "  ca-certificates    pkgs/main::ca-certificates-2023.01.10~ --> conda-forge::ca-certificates-2022.12.7-h5b45459_0 \n",
      "  certifi            pkgs/main/win-64::certifi-2022.12.7-p~ --> conda-forge/noarch::certifi-2022.12.7-pyhd8ed1ab_0 \n",
      "  scikit-image       pkgs/main::scikit-image-0.19.3-py310h~ --> conda-forge::scikit-image-0.19.3-py310hf5e1058_1 \n",
      "\n",
      "\n",
      "\n",
      "Downloading and Extracting Packages\n",
      "\n",
      "\n",
      "Preparing transaction: ...working... done\n",
      "Verifying transaction: ...working... done\n",
      "Executing transaction: ...working... done\n"
     ]
    }
   ],
   "source": [
    "!conda install scikit-image -c conda-forge -y"
   ]
  },
  {
   "cell_type": "code",
   "execution_count": 7,
   "id": "34eef39e",
   "metadata": {},
   "outputs": [
    {
     "ename": "ModuleNotFoundError",
     "evalue": "No module named 'skimage'",
     "output_type": "error",
     "traceback": [
      "\u001b[1;31m---------------------------------------------------------------------------\u001b[0m",
      "\u001b[1;31mModuleNotFoundError\u001b[0m                       Traceback (most recent call last)",
      "Cell \u001b[1;32mIn[7], line 1\u001b[0m\n\u001b[1;32m----> 1\u001b[0m \u001b[38;5;28;01mimport\u001b[39;00m \u001b[38;5;21;01mskimage\u001b[39;00m\n",
      "\u001b[1;31mModuleNotFoundError\u001b[0m: No module named 'skimage'"
     ]
    }
   ],
   "source": [
    "import skimage"
   ]
  },
  {
   "cell_type": "code",
   "execution_count": 6,
   "id": "ab05e050-e42d-47ae-9ead-e63240ca7113",
   "metadata": {},
   "outputs": [
    {
     "ename": "ModuleNotFoundError",
     "evalue": "No module named 'skimage'",
     "output_type": "error",
     "traceback": [
      "\u001b[1;31m---------------------------------------------------------------------------\u001b[0m",
      "\u001b[1;31mModuleNotFoundError\u001b[0m                       Traceback (most recent call last)",
      "Cell \u001b[1;32mIn[6], line 3\u001b[0m\n\u001b[0;32m      1\u001b[0m \u001b[38;5;28;01mimport\u001b[39;00m \u001b[38;5;21;01mnumpy\u001b[39;00m \u001b[38;5;28;01mas\u001b[39;00m \u001b[38;5;21;01mnp\u001b[39;00m\n\u001b[0;32m      2\u001b[0m \u001b[38;5;28;01mimport\u001b[39;00m \u001b[38;5;21;01mcv2\u001b[39;00m\n\u001b[1;32m----> 3\u001b[0m \u001b[38;5;28;01mfrom\u001b[39;00m \u001b[38;5;21;01mskimage\u001b[39;00m \u001b[38;5;28;01mimport\u001b[39;00m io, color\n\u001b[0;32m      4\u001b[0m \u001b[38;5;28;01mfrom\u001b[39;00m \u001b[38;5;21;01mskimage\u001b[39;00m\u001b[38;5;21;01m.\u001b[39;00m\u001b[38;5;21;01mfeature\u001b[39;00m \u001b[38;5;28;01mimport\u001b[39;00m local_binary_pattern, graycomatrix, graycoprops\n\u001b[0;32m      5\u001b[0m \u001b[38;5;28;01mfrom\u001b[39;00m \u001b[38;5;21;01mmatplotlib\u001b[39;00m \u001b[38;5;28;01mimport\u001b[39;00m pyplot \u001b[38;5;28;01mas\u001b[39;00m plt\n",
      "\u001b[1;31mModuleNotFoundError\u001b[0m: No module named 'skimage'"
     ]
    }
   ],
   "source": [
    "import numpy as np\n",
    "import cv2\n",
    "from skimage import io, color\n",
    "from skimage.feature import local_binary_pattern, graycomatrix, graycoprops\n",
    "from matplotlib import pyplot as plt\n",
    "from ipywidgets import interact,interactive\n",
    "import ipywidgets as widgets\n",
    "%matplotlib inline"
   ]
  },
  {
   "cell_type": "markdown",
   "id": "incoming-reynolds",
   "metadata": {},
   "source": [
    "## Gray Level Co-Occurrence Matrix (GLCM)\n",
    "A gray level co-occurrence Matrix is a matrix that is defined over an image to be the distribution of co-occurring pixel values at a given offset. It is used as an approach to texture analysis with various computer vision applications."
   ]
  },
  {
   "cell_type": "code",
   "execution_count": 86,
   "id": "sitting-pierce",
   "metadata": {},
   "outputs": [
    {
     "data": {
      "image/png": "[encoded data removed]",
      "text/plain": [
       "<Figure size 432x288 with 1 Axes>"
      ]
     },
     "metadata": {
      "needs_background": "light"
     },
     "output_type": "display_data"
    }
   ],
   "source": [
    "patternImage = np.array([\n",
    "    [0, 0, 1, 1],\n",
    "    [0, 0, 1, 1],\n",
    "    [0, 2, 2, 2],\n",
    "    [0, 2, 3, 3]], dtype=np.uint8)\n",
    "\n",
    "plt.imshow(patternImage, cmap='gray')\n",
    "plt.show()"
   ]
  },
  {
   "cell_type": "markdown",
   "id": "allied-activity",
   "metadata": {},
   "source": [
    "We will use <a href=\"https://scikit-image.org/docs/dev/api/skimage.feature.html?highlight=lbp#skimage.feature.greycomatrix\">greycomatrix</a> function from scikit-image to extract GLCM from the sample pattern."
   ]
  },
  {
   "cell_type": "code",
   "execution_count": null,
   "id": "christian-cliff",
   "metadata": {},
   "outputs": [],
   "source": [
    "co_ocmatrix = graycomatrix(patternImage, distances=[1], angles=[0, np.pi/4, np.pi/2], levels=4)\n",
    "print(co_ocmatrix.shape)\n",
    "print('angle 0')\n",
    "print(co_ocmatrix[:,:,0,0])\n",
    "\n",
    "print('angle 45')\n",
    "print(co_ocmatrix[:,:,0,1])\n",
    "\n",
    "print('angle 90')\n",
    "print(co_ocmatrix[:,:,0,2])"
   ]
  },
  {
   "cell_type": "markdown",
   "id": "rural-plate",
   "metadata": {},
   "source": [
    "### GLCM texture properties\n",
    "Fron the  GLCM we can compute the following texture properties by using <a href='https://scikit-image.org/docs/dev/api/skimage.feature.html?highlight=lbp#skimage.feature.graycoprops'>graycoprops</a> from scikit-image\n",
    "- contrast $\\sum_{i,j=0}^{levels-1} P_{i,j}(i-j)^2$\n",
    "- dissimilarity $\\sum_{i,j=0}^{levels-1}P_{i,j}|i-j|$\n",
    "- homogeneity $\\sum_{i,j=0}^{levels-1}\\frac{P_{i,j}}{1+(i-j)^2}$\n",
    "- correlation $\\sum_{i,j=0}^{levels-1} P_{i,j}\\left[\\frac{(i-\\mu_i)(j-\\mu_j)}{\\sqrt{(\\sigma_i^2)(\\sigma_j^2)}}\\right]$"
   ]
  },
  {
   "cell_type": "code",
   "execution_count": null,
   "id": "musical-adult",
   "metadata": {},
   "outputs": [],
   "source": [
    "contrast = graycoprops(co_ocmatrix, prop='contrast')\n",
    "dissimilarity = graycoprops(co_ocmatrix, prop='dissimilarity')\n",
    "homogeneity = graycoprops(co_ocmatrix, prop='homogeneity')\n",
    "\n",
    "print(contrast, dissimilarity,homogeneity)"
   ]
  },
  {
   "cell_type": "code",
   "execution_count": null,
   "id": "dangerous-royalty",
   "metadata": {},
   "outputs": [],
   "source": [
    "patternImage2 = np.zeros((4,4), dtype=np.uint8) ## all black image!\n",
    "co_ocmatrix2 = graycomatrix(patternImage2, distances=[1], angles=[0, np.pi/4, np.pi/2])\n",
    "\n",
    "contrast2 = graycoprops(co_ocmatrix2, prop='contrast')\n",
    "dissimilarity2 = graycoprops(co_ocmatrix2, prop='dissimilarity')\n",
    "homogeneity2 = graycoprops(co_ocmatrix2, prop='homogeneity')\n",
    "\n",
    "print(contrast2, dissimilarity2, homogeneity2)"
   ]
  },
  {
   "cell_type": "markdown",
   "id": "increased-origin",
   "metadata": {},
   "source": [
    "### Co-Occurrence matrix patch matching on bridge defect problem"
   ]
  },
  {
   "cell_type": "code",
   "execution_count": null,
   "id": "simple-certificate",
   "metadata": {},
   "outputs": [],
   "source": [
    "bridgeDefectImage = cv2.imread('assets/Lab6-crack.jpg')\n",
    "dispImage = cv2.cvtColor(bridgeDefectImage.copy(), cv2.COLOR_BGR2RGB)\n",
    "\n",
    "# Sample crack\n",
    "cv2.rectangle(dispImage, (170,200), (220,250), (0,255,255), 5)\n",
    "\n",
    "# Normal1\n",
    "cv2.rectangle(dispImage, (400,400), (450,450), (255,255,0), 5)\n",
    "\n",
    "# Crack2\n",
    "cv2.rectangle(dispImage, (540,300), (590,350), (0,255,0), 5)\n",
    "\n",
    "\n",
    "plt.figure(figsize=(10,10))\n",
    "plt.imshow(dispImage, cmap='gray')"
   ]
  },
  {
   "cell_type": "code",
   "execution_count": null,
   "id": "tutorial-resolution",
   "metadata": {},
   "outputs": [],
   "source": [
    "bridgeDefectImageGray = cv2.cvtColor(bridgeDefectImage, cv2.COLOR_BGR2GRAY)\n",
    "\n",
    "crackPatch1 = bridgeDefectImageGray[200:250,170:220]\n",
    "\n",
    "normalPatch1= bridgeDefectImageGray[400:450,400:450]\n",
    "\n",
    "crackPatch2 = bridgeDefectImageGray[300:350,540:590]\n",
    "\n",
    "_, axarr = plt.subplots(1,3)\n",
    "axarr[0].imshow(crackPatch1, cmap='gray')\n",
    "axarr[1].imshow(normalPatch1, cmap='gray')\n",
    "axarr[2].imshow(crackPatch2, cmap='gray')"
   ]
  },
  {
   "cell_type": "code",
   "execution_count": 95,
   "id": "large-blair",
   "metadata": {},
   "outputs": [],
   "source": [
    "co_ocmatrix_crackpatch1 = graycomatrix(crackPatch1, distances=[1], angles=[0, np.pi/4, np.pi/2], symmetric=True, normed=True)\n",
    "\n",
    "co_ocmatrix_normalpatch1 = graycomatrix(normalPatch1, distances=[1], angles=[0, np.pi/4, np.pi/2], symmetric=True, normed=True)\n",
    "\n",
    "co_ocmatrix_crackpatch2 = graycomatrix(crackPatch2, distances=[1], angles=[0, np.pi/4, np.pi/2], symmetric=True, normed=True)"
   ]
  },
  {
   "cell_type": "code",
   "execution_count": null,
   "id": "chinese-cigarette",
   "metadata": {},
   "outputs": [],
   "source": [
    "dist_normal_normal = np.linalg.norm(co_ocmatrix_crackpatch1-co_ocmatrix_crackpatch2)\n",
    "print('distance crack-crack', dist_normal_normal)\n",
    "\n",
    "dist_normal_crack = np.linalg.norm(co_ocmatrix_crackpatch1-co_ocmatrix_normalpatch1)\n",
    "print('distance normal-crack', dist_normal_crack)"
   ]
  },
  {
   "cell_type": "markdown",
   "id": "behind-arcade",
   "metadata": {},
   "source": [
    "## Local Binary Pattern (LBP)\n",
    "Local Binary Pattern (LBP) is a efficient texture operator which labels the pixels of an image by thresholding the neighborhood of each pixel and considers the result as a binary number.  It can be seen as a unifying approach to the traditionally divergent statistical and structural models of texture analysis. The most important property of the LBP operator in real-world applications is its robustness to monotonic gray-scale changes caused, for example, by illumination variations. Another important property is its computational simplicity, which makes it possible to analyze images in challenging real-time settings."
   ]
  },
  {
   "cell_type": "code",
   "execution_count": 97,
   "id": "internal-removal",
   "metadata": {},
   "outputs": [
    {
     "data": {
      "image/png": "[encoded data removed]",
      "text/plain": [
       "<Figure size 432x288 with 1 Axes>"
      ]
     },
     "metadata": {
      "needs_background": "light"
     },
     "output_type": "display_data"
    }
   ],
   "source": [
    "patternImage = np.array([\n",
    "    [0, 0, 1, 1],\n",
    "    [0, 0, 1, 1],\n",
    "    [0, 2, 2, 2],\n",
    "    [0, 2, 3, 3]], dtype=np.uint8)\n",
    "\n",
    "plt.imshow(patternImage, cmap='gray')\n",
    "plt.show()"
   ]
  },
  {
   "cell_type": "code",
   "execution_count": 98,
   "id": "burning-retirement",
   "metadata": {},
   "outputs": [],
   "source": [
    "lbpfeature = local_binary_pattern(patternImage, 8, 1)"
   ]
  },
  {
   "cell_type": "markdown",
   "id": "taken-region",
   "metadata": {},
   "source": [
    "Calculate LBP pattern for each patch by using scikit-image <a href=\"https://scikit-image.org/docs/dev/api/skimage.feature.html?highlight=lbp#skimage.feature.local_binary_pattern\">local_binary_pattern</a> <br>\n",
    "<img src=\"assets/Lab6-LBP.jpg\"/><br> Three neighborhood examples with varying p and r used to construct Local Binary Patterns. (Image from <a href=\"https://www.pyimagesearch.com/2015/12/07/local-binary-patterns-with-python-opencv/\">pyimagesearch</a>)"
   ]
  },
  {
   "cell_type": "code",
   "execution_count": null,
   "id": "latter-retro",
   "metadata": {},
   "outputs": [],
   "source": [
    "plt.imshow(lbpfeature, cmap='gray')\n",
    "print(lbpfeature)"
   ]
  },
  {
   "cell_type": "code",
   "execution_count": null,
   "id": "anonymous-discount",
   "metadata": {},
   "outputs": [],
   "source": [
    "bridgeDefectImage = cv2.imread('assets/Lab6-crack.jpg')\n",
    "dispImage = cv2.cvtColor(bridgeDefectImage.copy(), cv2.COLOR_BGR2RGB)\n",
    "\n",
    "# Sample crack\n",
    "cv2.rectangle(dispImage, (170,200), (220,250), (0,255,255), 5)\n",
    "\n",
    "# Normal1\n",
    "cv2.rectangle(dispImage, (400,400), (450,450), (255,255,0), 5)\n",
    "\n",
    "# Crack2\n",
    "cv2.rectangle(dispImage, (540,300), (590,350), (0,255,0), 5)\n",
    "\n",
    "\n",
    "plt.figure(figsize=(10,10))\n",
    "plt.imshow(dispImage, cmap='gray')"
   ]
  },
  {
   "cell_type": "code",
   "execution_count": 101,
   "id": "further-andrew",
   "metadata": {},
   "outputs": [],
   "source": [
    "lbp_crackpatch1 =  local_binary_pattern(crackPatch1, P=16, R=8, method='uniform') \n",
    "lbp_normalpatch1 =  local_binary_pattern(normalPatch1, P=16, R=8, method='uniform')\n",
    "lbp_crackpatch2 =  local_binary_pattern(crackPatch2, P=16, R=8, method='uniform') "
   ]
  },
  {
   "cell_type": "markdown",
   "id": "elect-cause",
   "metadata": {},
   "source": [
    "### LBP histogram"
   ]
  },
  {
   "cell_type": "code",
   "execution_count": 102,
   "id": "neural-regulation",
   "metadata": {},
   "outputs": [
    {
     "data": {
      "image/png": "[encoded data removed]",
      "text/plain": [
       "<Figure size 432x288 with 3 Axes>"
      ]
     },
     "metadata": {
      "needs_background": "light"
     },
     "output_type": "display_data"
    }
   ],
   "source": [
    "nBin = 16\n",
    "\n",
    "_, axarr = plt.subplots(1,3)\n",
    "\n",
    "hist_crackpatch1, _ = np.histogram(lbp_crackpatch1, density=True, bins=nBin, range=(0, nBin))\n",
    "axarr[0].plot(hist_crackpatch1)\n",
    "\n",
    "hist_normalpatch1, _ = np.histogram(lbp_normalpatch1, density=True, bins=nBin, range=(0, nBin))\n",
    "axarr[1].plot(hist_normalpatch1)\n",
    "    \n",
    "hist_crackpatch2, _ = np.histogram(lbp_crackpatch2, density=True, bins=nBin, range=(0, nBin))\n",
    "axarr[2].plot(hist_crackpatch2)\n",
    "\n",
    "plt.show()"
   ]
  },
  {
   "cell_type": "markdown",
   "id": "sunset-asian",
   "metadata": {},
   "source": [
    "### LBP Histogram matching"
   ]
  },
  {
   "cell_type": "markdown",
   "id": "small-jacob",
   "metadata": {},
   "source": [
    "#### Simple euclidean distance"
   ]
  },
  {
   "cell_type": "code",
   "execution_count": null,
   "id": "exceptional-primary",
   "metadata": {},
   "outputs": [],
   "source": [
    "print('Eucliden distance between crack-crack',np.linalg.norm(hist_crackpatch1 - hist_crackpatch2))\n",
    "print('Eucliden distance between crack-normal',np.linalg.norm(hist_crackpatch1 - hist_normalpatch1))"
   ]
  },
  {
   "cell_type": "markdown",
   "id": "worldwide-devil",
   "metadata": {},
   "source": [
    "#### KL divergence is a way of measuring the matching between two distributions \n",
    "(More detail can  be read from <a href=\"https://towardsdatascience.com/light-on-math-machine-learning-intuitive-guide-to-understanding-kl-divergence-2b382ca2b2a8\">here</a>)"
   ]
  },
  {
   "cell_type": "code",
   "execution_count": null,
   "id": "horizontal-moment",
   "metadata": {},
   "outputs": [],
   "source": [
    "def kldivergence(p, q):\n",
    "    filt = np.logical_and(p != 0, q != 0)\n",
    "    return np.sum(p[filt] * np.log2(p[filt] / q[filt]))\n",
    "\n",
    "print('KL-Divergence between crack-crack', kldivergence(hist_crackpatch1 , hist_crackpatch2))\n",
    "print('KL-Divergence between crack-normal', kldivergence(hist_crackpatch1 , hist_normalpatch1))"
   ]
  },
  {
   "cell_type": "markdown",
   "id": "0fa88134-c48f-4f86-ac74-2cb8362b38fa",
   "metadata": {},
   "source": [
    "## Morphological Transformations"
   ]
  },
  {
   "cell_type": "markdown",
   "id": "c5cad6a4-fb80-44df-b565-e9cae39b23c9",
   "metadata": {},
   "source": [
    "The field of mathematical morphology contributes a wide range of operators to image processing, all based around a simple mathematical concepts from set theory. Morphological transformations are the operations based on the image shapeimport numpy as np\n",
    "import cv2\n",
    "from skimage import io, color\n",
    "from skimage.feature import local_binary_pattern, greycomatrix, greycoprops\n",
    "from matplotlib import pyplot as plt employed on binay images. This operation needs needs two inputs, one is binary image, second one is called <b>structuring element or kernel</b> which decides the operation output. You can design the kernel to suit your application needs. Two basic morphological operators are Erosion and Dilation"
   ]
  },
  {
   "cell_type": "markdown",
   "id": "3f289bab-9bcb-4a43-8444-c25e01b32dc2",
   "metadata": {},
   "source": [
    "The following mask image is segmented by using color information. You can see that there are some hand's pixels which are not connect into a perfect hand shape. We can correct these by using the basic morphological operaters."
   ]
  },
  {
   "cell_type": "code",
   "execution_count": null,
   "id": "69c351fc-5026-4f96-8eb0-d5485be48247",
   "metadata": {},
   "outputs": [],
   "source": [
    "handMask = cv2.imread('assets/Lab5-SegmentedHand.png',cv2.IMREAD_GRAYSCALE)\n",
    "plt.title('Segmented Hand Mask')\n",
    "plt.imshow(handMask,cmap='gray')\n",
    "plt.show()"
   ]
  },
  {
   "cell_type": "code",
   "execution_count": null,
   "id": "b429bff2-80e0-4307-9c7a-110825d42533",
   "metadata": {},
   "outputs": [],
   "source": [
    "def openAndCloseMorph(kernelSize,kernelShape, morphType):\n",
    "    kernel = cv2.getStructuringElement(kernelShape,(kernelSize,kernelSize))\n",
    "    \n",
    "    outputImage = handMask.copy()\n",
    "    \n",
    "    if morphType == 'erode':\n",
    "        outputImage = cv2.erode(outputImage,kernel,iterations = 1)\n",
    "    else:\n",
    "        outputImage = cv2.dilate(outputImage,kernel,iterations = 1)\n",
    "\n",
    "    plt.figure(figsize=(5,5))\n",
    "    plt.imshow(outputImage, cmap='gray')\n",
    "    plt.show()\n",
    "    \n",
    "    print('Morphology Kernel Shape:')\n",
    "    display(kernel)\n",
    "    \n",
    "interact(openAndCloseMorph, kernelSize=widgets.IntSlider(min=1,max=11,step=1,value=1), \n",
    "         kernelShape=widgets.Dropdown(\n",
    "                        options=[cv2.MORPH_RECT,cv2.MORPH_ELLIPSE, cv2.MORPH_CROSS],\n",
    "                        value=cv2.MORPH_RECT,\n",
    "                        description='kernelShape:',\n",
    "                        disabled=False),\n",
    "        morphType=widgets.Dropdown(\n",
    "                        options=['erode','dilate'],\n",
    "                        value='erode',\n",
    "                        description='Morph Type:',\n",
    "                        disabled=False)\n",
    ");"
   ]
  },
  {
   "cell_type": "markdown",
   "id": "a02d6650-d63c-4fa6-9849-95fa8908f7c9",
   "metadata": {},
   "source": [
    "This <a href=\"https://docs.opencv.org/3.4.2/d9/d61/tutorial_py_morphological_ops.html\">page</a> shows a good morphological operation exmple, try to write an interactive visualization like the above sample on <b>Opening and Closing</b> operations. See the output results by yourself."
   ]
  },
  {
   "cell_type": "code",
   "execution_count": null,
   "id": "389b84ef-0c47-4f12-a072-bfe7b67041d7",
   "metadata": {},
   "outputs": [],
   "source": [
    "### FILL HERE ###\n",
    "def openAndCloseMorph(kernelSize,kernelShape, morphType):\n",
    "    kernel = cv2.getStructuringElement(kernelShape,(kernelSize,kernelSize))\n",
    "    \n",
    "    outputImage = handMask.copy()\n",
    "    \n",
    "    if morphType == 'close':\n",
    "        outputImage = cv2.dilate(outputImage,kernel,iterations = 1)\n",
    "        outputImage = cv2.erode(outputImage,kernel,iterations = 1)\n",
    "    else:\n",
    "        outputImage = cv2.erode(outputImage,kernel,iterations = 1)\n",
    "        outputImage = cv2.dilate(outputImage,kernel,iterations = 1)\n",
    "\n",
    "    plt.figure(figsize=(5,5))\n",
    "    plt.imshow(outputImage, cmap='gray')\n",
    "    plt.show()\n",
    "    \n",
    "    print('Morphology Kernel Shape:')\n",
    "    display(kernel)\n",
    "    \n",
    "interact(openAndCloseMorph, kernelSize=widgets.IntSlider(min=1,max=11,step=1,value=1), \n",
    "         kernelShape=widgets.Dropdown(\n",
    "                        options=[cv2.MORPH_RECT,cv2.MORPH_ELLIPSE, cv2.MORPH_CROSS],\n",
    "                        value=cv2.MORPH_RECT,\n",
    "                        description='kernelShape:',\n",
    "                        disabled=False),\n",
    "        morphType=widgets.Dropdown(\n",
    "                        options=['open','close'],\n",
    "                        value='open',\n",
    "                        description='Morph Type:',\n",
    "                        disabled=False)\n",
    ");\n",
    "#################"
   ]
  },
  {
   "cell_type": "markdown",
   "id": "identified-athens",
   "metadata": {},
   "source": [
    "## Assignment 1 - Texture Segmentation"
   ]
  },
  {
   "cell_type": "markdown",
   "id": "martial-health",
   "metadata": {},
   "source": [
    "From the above section, we can magically matching each texture with sample patches. Your today task is to implement a program to segment this leopard from the background by using chosen texture feature and sliding window method. You can search and use any knowledge from internet but do not forget to proper credit your sources. <br>\n",
    "<img src=\"assets/Lab6-leopard.jpg\"/>"
   ]
  },
  {
   "cell_type": "code",
   "execution_count": null,
   "id": "tropical-voluntary",
   "metadata": {},
   "outputs": [],
   "source": [
    "leopardImage = cv2.imread('assets/Lab6-leopard.jpg', cv2.IMREAD_GRAYSCALE)\n",
    "leopardImage = cv2.resize(leopardImage, None,fx=0.5,fy=0.5) #resize to reduce computation time\n",
    "\n",
    "# Just sample patches, you can change to any position you want\n",
    "leopardPatch1 = leopardImage[100:150,400:450]\n",
    "leopardPatch2 = leopardImage[100:150,150:200]\n",
    "leopardPatch3 = leopardImage[200:250,300:350]\n",
    "\n",
    "nonleopardPatch1 = leopardImage[0:50,400:450]\n",
    "nonleopardPatch2 = leopardImage[250:300,0:50]\n",
    "nonleopardPatch3 = leopardImage[250:300,100:150]\n",
    "\n",
    "\n",
    "plt.figure()\n",
    "plt.imshow(leopardImage, cmap='gray')\n",
    "\n",
    "plt.figure()\n",
    "_, axarr = plt.subplots(1,3)\n",
    "axarr[0].imshow(leopardPatch1, cmap='gray')\n",
    "axarr[1].imshow(leopardPatch2, cmap='gray')\n",
    "axarr[2].imshow(leopardPatch3, cmap='gray')\n",
    "\n",
    "plt.figure()\n",
    "_, axarr = plt.subplots(1,3)\n",
    "axarr[0].imshow(nonleopardPatch1, cmap='gray')\n",
    "axarr[1].imshow(nonleopardPatch2, cmap='gray')\n",
    "axarr[2].imshow(nonleopardPatch3, cmap='gray')"
   ]
  },
  {
   "cell_type": "code",
   "execution_count": null,
   "id": "unique-harrison",
   "metadata": {},
   "outputs": [],
   "source": []
  },
  {
   "cell_type": "code",
   "execution_count": null,
   "id": "2f39d95e-9f12-4727-abce-3c6d914ba6fc",
   "metadata": {},
   "outputs": [],
   "source": []
  }
 ],
 "metadata": {
  "kernelspec": {
   "display_name": "Python 3 (ipykernel)",
   "language": "python",
   "name": "python3"
  },
  "language_info": {
   "codemirror_mode": {
    "name": "ipython",
    "version": 3
   },
   "file_extension": ".py",
   "mimetype": "text/x-python",
   "name": "python",
   "nbconvert_exporter": "python",
   "pygments_lexer": "ipython3",
   "version": "3.11.1"
  }
 },
 "nbformat": 4,
 "nbformat_minor": 5
}
