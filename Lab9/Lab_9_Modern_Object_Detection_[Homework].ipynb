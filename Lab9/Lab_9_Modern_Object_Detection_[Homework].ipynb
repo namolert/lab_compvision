{
  "cells": [
    {
      "cell_type": "markdown",
      "metadata": {
        "id": "r7GTSH1NwhxT"
      },
      "source": [
        "# **2110443 - Computer Vision (2022/2)**\n",
        "#**Lab 9 - Modern Object Detection [Homework]** <br>\n",
        "In this lab, we will learn how to use MMDetection to perform object detection in the provided real world dataset using PyTorch. This notebook includes both coding and written questions. Please hand in this notebook file with all outputs and your answer.\n",
        "\n",
        "**Collaboration is encouraged in this course.** You must turn in your own write ups of all problems. If you collaborate with others, you must put the names and ids of the students you worked with in below block.\n",
        "\n",
        "Collaboration List:\n",
        "- ...\n",
        "- ...\n"
      ]
    },
    {
      "cell_type": "markdown",
      "metadata": {
        "id": "ACywHh_DxHJE"
      },
      "source": [
        "# Assignment 1 : Parasite Detection\n",
        "![alt text](https://icip2022challenge.piclab.ai/wp-content/uploads/2022/01/parasite_egg_11_with_size.png) \n",
        "\n",
        "In this assignment you have to replace YOUR_STUDENT_ID_WITH21 variable with your student id (in integer). There will be 2 sets of data: train and test \n",
        "\n",
        "By using the knowledge from the lab and lecture, you have to train object detection model and tested on unknown label dataset!\n",
        "\n",
        "\n",
        "\n",
        "Scoreboard URL : https://www.piclab.ai/classes/cv2022/lab9/scoreboard"
      ]
    },
    {
      "cell_type": "markdown",
      "metadata": {
        "id": "jVfTXKTpyBBe"
      },
      "source": [
        "Install prerequisite libraries for MMDetection\n"
      ]
    },
    {
      "cell_type": "code",
      "execution_count": null,
      "metadata": {
        "colab": {
          "base_uri": "https://localhost:8080/"
        },
        "id": "N6viNjw_x6s8",
        "outputId": "44bcc472-a17f-47a2-d555-0f4c9c45b78b"
      },
      "outputs": [],
      "source": [
        "!pip install openmim\n",
        "!mim install mmdet"
      ]
    },
    {
      "cell_type": "code",
      "execution_count": null,
      "metadata": {
        "colab": {
          "base_uri": "https://localhost:8080/"
        },
        "id": "rfXSIt4pwSrC",
        "outputId": "bbbd71e7-1cac-493d-82a8-748b9c00c755"
      },
      "outputs": [],
      "source": [
        "import random\n",
        "import glob\n",
        "import os\n",
        "import numpy as np\n",
        "import cv2\n",
        "from matplotlib import pyplot as plt\n",
        "from tqdm.notebook import tqdm\n",
        "import matplotlib\n",
        "from matplotlib import font_manager\n",
        "\n",
        "import torch\n",
        "import torch.nn.functional as F\n",
        "import torch.nn as nn\n",
        "import torch.optim as optim\n",
        "from torch.utils.data import DataLoader, Dataset, Subset\n",
        "from torchvision.datasets import ImageFolder\n",
        "from torchvision import transforms\n",
        "from torchvision import models as models\n",
        "from sklearn.metrics import confusion_matrix\n",
        "from sklearn.model_selection import train_test_split\n",
        "\n",
        "\n",
        "##### Don't forget to put your ID here (in integer) ####\n",
        "YOUR_STUDENT_ID_WITH21 = 5630008021 \n",
        "#######################################################\n",
        "\n",
        "def isStudentIDValid(studentID):\n",
        "  strID = str(studentID)\n",
        "  isEndWith21 = strID.endswith('21')\n",
        "  isLengthOK = len(strID) == 10\n",
        "  if isEndWith21 and isLengthOK:\n",
        "    return True\n",
        "  else:\n",
        "    return False\n",
        "\n",
        "print('Student ID status:',isStudentIDValid(YOUR_STUDENT_ID_WITH21))"
      ]
    },
    {
      "cell_type": "markdown",
      "metadata": {
        "id": "S_FOCV1fxqhD"
      },
      "source": [
        "## Your model description goes here: ###\n",
        "WRITE HERE"
      ]
    },
    {
      "cell_type": "markdown",
      "metadata": {
        "id": "LwAtAkwzwd1B"
      },
      "source": []
    },
    {
      "cell_type": "markdown",
      "metadata": {
        "id": "ByvSDpMOxwjy"
      },
      "source": [
        "## GPU Status Check"
      ]
    },
    {
      "cell_type": "code",
      "execution_count": null,
      "metadata": {
        "colab": {
          "base_uri": "https://localhost:8080/"
        },
        "id": "Bxk4HiuDxw3X",
        "outputId": "36e3ab5e-b8d2-4807-90df-c8930bea4c20"
      },
      "outputs": [],
      "source": [
        "!nvidia-smi"
      ]
    },
    {
      "cell_type": "markdown",
      "metadata": {
        "id": "yp12w8JUxzmm"
      },
      "source": [
        "## Download and inspect parasite dataset"
      ]
    },
    {
      "cell_type": "code",
      "execution_count": null,
      "metadata": {
        "colab": {
          "base_uri": "https://localhost:8080/"
        },
        "id": "G2e5Wv2LxyH5",
        "outputId": "227debfa-fd3f-456d-9c24-6ab6823e9aca"
      },
      "outputs": [],
      "source": [
        "!pip install --upgrade gdown \n",
        "!gdown https://drive.google.com/uc?id=1RVluBzZvJ8mWwA5AuB2PklbaoK60uPMF\n",
        "!gdown https://drive.google.com/uc?id=1kvBxmC1o0vE2ef2CJqhLaj9V4TD72oW3\n",
        "!unzip parasite_train.zip\n",
        "!unzip parasite_test.zip"
      ]
    },
    {
      "cell_type": "markdown",
      "metadata": {
        "id": "IkNZaRW7RZhY"
      },
      "source": [
        "### Download Model\n"
      ]
    },
    {
      "cell_type": "code",
      "execution_count": null,
      "metadata": {
        "colab": {
          "base_uri": "https://localhost:8080/"
        },
        "id": "gxj9caHmyp6S",
        "outputId": "6dab2534-9619-4068-ce0c-56a3a7097f01"
      },
      "outputs": [],
      "source": [
        "#### FILL YOUR CODE HERE ####\n"
      ]
    },
    {
      "cell_type": "markdown",
      "metadata": {
        "id": "QEh232Sr2TwM"
      },
      "source": [
        "### Dataset Exploration\n",
        "We will use pycocotools to explore this dataset. "
      ]
    },
    {
      "cell_type": "code",
      "execution_count": null,
      "metadata": {
        "colab": {
          "base_uri": "https://localhost:8080/"
        },
        "id": "3jj58qCX2Q0f",
        "outputId": "143de540-f2f5-4176-90db-94ec331ffe6a"
      },
      "outputs": [],
      "source": [
        "from mmcv import Config\n",
        "\n",
        "modelConfig = ???\n",
        "print(f'Original Config:\\n{modelConfig.pretty_text}')"
      ]
    },
    {
      "cell_type": "code",
      "execution_count": null,
      "metadata": {
        "id": "nTaQtHqO2WHS"
      },
      "outputs": [],
      "source": [
        "from pycocotools.coco import COCO\n",
        "import numpy as np\n",
        "import cv2\n",
        "import matplotlib.pyplot as plt"
      ]
    },
    {
      "cell_type": "code",
      "execution_count": null,
      "metadata": {
        "colab": {
          "base_uri": "https://localhost:8080/"
        },
        "id": "qZi0oVt12X4L",
        "outputId": "67677f2e-11e2-41a6-d899-49f4a33fe2b5"
      },
      "outputs": [],
      "source": [
        "trainLabelFile='parasite_train/labels.json'\n",
        "# initialize COCO api for instance annotations\n",
        "trainCOCOBinding = COCO(trainLabelFile)"
      ]
    },
    {
      "cell_type": "code",
      "execution_count": null,
      "metadata": {
        "colab": {
          "base_uri": "https://localhost:8080/",
          "height": 378
        },
        "id": "TvbPIRCA2dTN",
        "outputId": "3d8fc565-f957-4434-81b9-6e2782d7abba"
      },
      "outputs": [],
      "source": [
        "#display COCO categories and supercategories\n",
        "cats = trainCOCOBinding.loadCats(trainCOCOBinding.getCatIds())\n",
        "nms=[cat['name'] for cat in cats]\n",
        "print('COCO categories: \\n{}\\n'.format(' '.join(nms)))\n",
        "\n",
        "# get all images containing given categories, select one at random\n",
        "catIds = trainCOCOBinding.getCatIds(catNms=['Hymenolepis diminuta',]);\n",
        "imgIds = trainCOCOBinding.getImgIds(catIds=catIds );\n",
        "\n",
        "randomImgId = np.random.randint(0,len(imgIds))\n",
        "sampleImageData = trainCOCOBinding.loadImgs(randomImgId)[0]\n",
        "\n",
        "print('Image Data >>', sampleImageData)\n",
        "\n",
        "sampleImage = cv2.imread('parasite_train/data/'+sampleImageData['file_name'])\n",
        "\n",
        "annIds = trainCOCOBinding.getAnnIds(imgIds=randomImgId, iscrowd=None)\n",
        "boxes = trainCOCOBinding.loadAnns(annIds)\n",
        "print('Box Data', boxes)\n",
        "\n",
        "for box in boxes:\n",
        "  x,y,w,h = box['bbox']\n",
        "  cv2.rectangle(sampleImage, (int(x), int(y)), (int(x+w), int(y+h)), (0,255,0), 5)\n",
        "\n",
        "sampleImage = cv2.cvtColor(sampleImage, cv2.COLOR_BGR2RGB)\n",
        "\n",
        "plt.imshow(sampleImage)\n",
        "plt.show()"
      ]
    },
    {
      "cell_type": "markdown",
      "metadata": {
        "id": "LbOp-JDJ23tj"
      },
      "source": [
        "### Modify MMDetection model configuration"
      ]
    },
    {
      "cell_type": "code",
      "execution_count": null,
      "metadata": {
        "colab": {
          "base_uri": "https://localhost:8080/"
        },
        "id": "JIOG1Rmy2nYs",
        "outputId": "4d87adb1-685f-4d4a-821e-de476710d20b"
      },
      "outputs": [],
      "source": [
        "from mmcv.utils.config import ConfigDict\n",
        "from mmdet.apis import set_random_seed\n",
        "\n",
        "# Modify dataset type and path\n",
        "#### FILL YOUR CODE HERE ####\n",
        "\n",
        "\n",
        "\n",
        "print(f'Modified Config:\\n{modelConfig.pretty_text}')"
      ]
    },
    {
      "cell_type": "markdown",
      "metadata": {
        "id": "-u2iS_Ws3ekp"
      },
      "source": [
        "### Training"
      ]
    },
    {
      "cell_type": "code",
      "execution_count": null,
      "metadata": {
        "colab": {
          "base_uri": "https://localhost:8080/",
          "height": 1000
        },
        "id": "HqqYBTEd3bLg",
        "outputId": "a8f11ee8-4583-4f42-c394-4d1465e44696"
      },
      "outputs": [],
      "source": [
        "from mmdet.datasets import build_dataset\n",
        "from mmdet.models import build_detector\n",
        "from mmdet.apis import train_detector\n",
        "import mmcv\n",
        "import os\n",
        "\n",
        "# Build dataset\n",
        "datasets = [build_dataset(modelConfig.data.train)]\n",
        "\n",
        "# Build the detecmodelConfig, distributed=False, validate=True)tor\n",
        "model = build_detector(modelConfig.model, train_cfg=modelConfig.get('train_cfg'), test_cfg=modelConfig.get('test_cfg'))\n",
        "\n",
        "# Create work_dir\n",
        "mmcv.mkdir_or_exist(os.path.abspath(modelConfig.work_dir))\n",
        "train_detector(model, datasets, "
      ]
    },
    {
      "cell_type": "markdown",
      "metadata": {
        "id": "Ivo291W34OZq"
      },
      "source": [
        "### Inference on test set!"
      ]
    },
    {
      "cell_type": "code",
      "execution_count": null,
      "metadata": {
        "id": "qHsvTee43hBu"
      },
      "outputs": [],
      "source": [
        "from mmdet.apis import inference_detector, init_detector, show_result_pyplot"
      ]
    },
    {
      "cell_type": "code",
      "execution_count": null,
      "metadata": {
        "id": "PJD1qufzxekO"
      },
      "outputs": [],
      "source": [
        "def get_coco_result(bboxes, id, score_thr, file_name):\n",
        "    coco_results = []\n",
        "    for i in range(len(bboxes)):\n",
        "        # print(bboxes[i])\n",
        "        if len(bboxes[i])> 0 and bboxes[i][:, 4].max() > score_thr:\n",
        "            x1, y1, x2, y2 = bboxes[i][0, :4].tolist()\n",
        "            width = x2 - x1\n",
        "            height = y2 - y1\n",
        "            x = x1\n",
        "            y = y1\n",
        "            score = float(bboxes[i][0, 4])\n",
        "            coco_result = {\n",
        "                'id': id,\n",
        "                'category_id': i,  # COCO dataset class IDs start from 1\n",
        "                'bbox': [x, y, width, height],\n",
        "                'score': score,\n",
        "                'file_name': file_name\n",
        "            }\n",
        "            \n",
        "         \n",
        "            id += 1\n",
        "            coco_results.append(coco_result)\n",
        "    return coco_results, id"
      ]
    },
    {
      "cell_type": "code",
      "execution_count": null,
      "metadata": {
        "colab": {
          "base_uri": "https://localhost:8080/"
        },
        "id": "_p958sq3kfKr",
        "outputId": "9659a556-fe12-489a-f206-b75c1b1198c3"
      },
      "outputs": [],
      "source": [
        "model = ???"
      ]
    },
    {
      "cell_type": "markdown",
      "metadata": {
        "id": "Lc0oiTJIawrv"
      },
      "source": [
        "### Submit Results"
      ]
    },
    {
      "cell_type": "code",
      "execution_count": null,
      "metadata": {
        "id": "eAceq9Op6KT0"
      },
      "outputs": [],
      "source": [
        "from mmdet.core import  bbox2result\n",
        "\n",
        "image_dir = '/content/parasite_test/data'\n",
        "\n",
        "annotations = dict()\n",
        "annotations['annotations'] = list()\n",
        "id = 0\n",
        "for filename in os.listdir(image_dir):\n",
        "    if filename.endswith('.jpg'):\n",
        "        image_path = os.path.join(image_dir, filename)\n",
        "        \n",
        "        result = inference_detector(model, image_path)\n",
        "        # print(result)\n",
        "        coco_result, id = get_coco_result(result, id, 0.3,filename)\n",
        "        annotations['annotations']+=coco_result\n",
        "        # break"
      ]
    },
    {
      "cell_type": "code",
      "execution_count": null,
      "metadata": {
        "colab": {
          "base_uri": "https://localhost:8080/"
        },
        "id": "T84tJLpVL2zo",
        "outputId": "d984d0be-9d81-4e8c-d03f-e2f9d2d542a0"
      },
      "outputs": [],
      "source": [
        "import requests\n",
        "sendDict = { 'studentID':YOUR_STUDENT_ID_WITH21, 'results':  annotations }\n",
        "response = requests.post('https://www.piclab.ai/classes/cv2022/lab9/scoreboard/submitLab9',headers={'Content-Type': 'application/json' }, json=sendDict)\n",
        "print(response.text)"
      ]
    }
  ],
  "metadata": {
    "accelerator": "GPU",
    "colab": {
      "provenance": []
    },
    "gpuClass": "standard",
    "kernelspec": {
      "display_name": "Python 3",
      "name": "python3"
    },
    "language_info": {
      "name": "python"
    }
  },
  "nbformat": 4,
  "nbformat_minor": 0
}
