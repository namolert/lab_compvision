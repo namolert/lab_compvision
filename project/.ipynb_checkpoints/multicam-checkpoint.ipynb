{
 "cells": [
  {
   "cell_type": "code",
   "execution_count": 1,
   "id": "bd5e8bfe",
   "metadata": {},
   "outputs": [],
   "source": [
    "import numpy as np\n",
    "import cv2"
   ]
  },
  {
   "cell_type": "code",
   "execution_count": 2,
   "id": "713bbff2",
   "metadata": {},
   "outputs": [],
   "source": [
    "video_capture_0 = cv2.VideoCapture(0)\n",
    "video_capture_1 = cv2.VideoCapture(1)\n",
    "while True:\n",
    "    ret0, frame0 = video_capture_0.read()\n",
    "    ret1, frame1 = video_capture_1.read()\n",
    "    \n",
    "    if (ret0):\n",
    "        cv2.imshow(\"Cam 0\", frame0)\n",
    "    if (ret1):\n",
    "        cv2.imshow(\"Cam 1\", frame1)\n",
    "        \n",
    "    if cv2.waitKey(1) & 0xFF == ord(\"q\"):\n",
    "        break\n",
    "\n",
    "video_capture_0.release()\n",
    "video_capture_1.release()\n",
    "cv2.destroyAllWindows()"
   ]
  },
  {
   "cell_type": "code",
   "execution_count": null,
   "id": "a1d2c5b7",
   "metadata": {},
   "outputs": [],
   "source": []
  }
 ],
 "metadata": {
  "kernelspec": {
   "display_name": "Python (Python 3.10.9)",
   "language": "python",
   "name": "py3109"
  },
  "language_info": {
   "codemirror_mode": {
    "name": "ipython",
    "version": 3
   },
   "file_extension": ".py",
   "mimetype": "text/x-python",
   "name": "python",
   "nbconvert_exporter": "python",
   "pygments_lexer": "ipython3",
   "version": "3.10.9"
  }
 },
 "nbformat": 4,
 "nbformat_minor": 5
}
